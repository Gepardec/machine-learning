{
 "cells": [
  {
   "cell_type": "markdown",
   "metadata": {},
   "source": [
    "# Very short introduction to Python, Jupyter and Matplotlib\n",
    "\n",
    "\n",
    "Go through the lines and read the comments for clarification.\n",
    "\n",
    "You can edit all the cells and experiment with the scripts.\n",
    "\n",
    "Press **Ctrl-Enter** to parse the content of a cell."
   ]
  },
  {
   "cell_type": "code",
   "execution_count": null,
   "metadata": {},
   "outputs": [],
   "source": [
    "# Import the modules Numpy and Matplotlib and reference them with `np` and `plt` in the script.\n",
    "# Numpy is a versatile and high-performing library for scientific calculations and multi-dimensional data.\n",
    "import numpy as np\n",
    "# Matplotlib is a widely used plotting library based on Matlab.\n",
    "import matplotlib.pyplot as plt\n",
    "\n",
    "# Press Ctrl-Enter to run this cell."
   ]
  },
  {
   "cell_type": "code",
   "execution_count": null,
   "metadata": {},
   "outputs": [],
   "source": [
    "# You can define functions and variables that can be used in other cells.\n",
    "def average(numbers: list):\n",
    "    # You can add type annotation like `var: type` for readability. They are ignored by the interpreter and thus\n",
    "    # does not affect the runtime of the programme.\n",
    "\n",
    "    # BE AWARE! In Python spaces (no tabs!) are used to structure the code.\n",
    "    return sum(numbers) / len(numbers)"
   ]
  },
  {
   "cell_type": "code",
   "execution_count": null,
   "metadata": {},
   "outputs": [],
   "source": [
    "# Call the above function.\n",
    "# Make sure you have pressed Ctrl-Enter! \n",
    "average([1, 2, 3, 4])"
   ]
  },
  {
   "cell_type": "markdown",
   "metadata": {},
   "source": [
    "## Working with Numpy"
   ]
  },
  {
   "cell_type": "code",
   "execution_count": null,
   "metadata": {},
   "outputs": [],
   "source": [
    "# Load a CSV file into a Numpy array.\n",
    "# For this example we use a dataset from UCI Machine Learning Repository \n",
    "# (https://archive.ics.uci.edu/ml/datasets/Absenteeism+at+work).\n",
    "data = np.loadtxt(open(\"../data/Absenteeism_at_work.csv\", \"rb\"), delimiter=\";\", skiprows=1)"
   ]
  },
  {
   "cell_type": "code",
   "execution_count": null,
   "metadata": {},
   "outputs": [],
   "source": [
    "# Run this cell to see the string representation of `data`\n",
    "data"
   ]
  },
  {
   "cell_type": "code",
   "execution_count": null,
   "metadata": {},
   "outputs": [],
   "source": [
    "# Here you see the dimension of the array as a tuple.\n",
    "# `data` consists of 740 rows and 21 columns.\n",
    "data.shape"
   ]
  },
  {
   "cell_type": "code",
   "execution_count": null,
   "metadata": {},
   "outputs": [],
   "source": [
    "# Numpy arrays come with a very mighty slicing mechanism.\n",
    "# You can select specific columns and rows with [row_from:row_to, col_from:col_to, ... if there are more dimensions]\n",
    "# Here we select the first three columns\n",
    "first_three_columns = data[:, 0:3]\n",
    "# The 0 here is optional. data[:, :3] would be equally valid. Try it out!"
   ]
  },
  {
   "cell_type": "code",
   "execution_count": null,
   "metadata": {},
   "outputs": [],
   "source": [
    "# Have a look at the dimensions of your selection\n",
    "first_three_columns.shape"
   ]
  },
  {
   "cell_type": "code",
   "execution_count": null,
   "metadata": {},
   "outputs": [],
   "source": [
    "# Here we select the last three rows\n",
    "last_three_rows = data[-3:, :]\n",
    "last_three_rows.shape"
   ]
  },
  {
   "cell_type": "code",
   "execution_count": null,
   "metadata": {},
   "outputs": [],
   "source": [
    "# Here we select some chunk from the middle\n",
    "subset = data[3:6, 11:17]\n",
    "subset.shape"
   ]
  },
  {
   "cell_type": "code",
   "execution_count": null,
   "metadata": {},
   "outputs": [],
   "source": [
    "# Let's have a look at some specific data\n",
    "weight = data[:, 17]\n",
    "height = data[:, 18]"
   ]
  },
  {
   "cell_type": "markdown",
   "metadata": {},
   "source": [
    "## Plotting with Matplotlib"
   ]
  },
  {
   "cell_type": "code",
   "execution_count": null,
   "metadata": {},
   "outputs": [],
   "source": [
    "# Let's plot the data to see the relationship between weight and height\n",
    "plt.plot(height, weight, linestyle=\"none\", marker=\"x\")\n",
    "# Jupyter can display the graphical output of Matplotlib. Quite cool, right?"
   ]
  },
  {
   "cell_type": "code",
   "execution_count": null,
   "metadata": {},
   "outputs": [],
   "source": [
    "# What is the mean of the values?\n",
    "np.mean(height), np.mean(weight)\n",
    "#You can also surround the above expression with parentheses (...) and the result would be same.\n",
    "# The output is a 2-tuple. "
   ]
  },
  {
   "cell_type": "code",
   "execution_count": null,
   "metadata": {},
   "outputs": [],
   "source": [
    "# What is their correlation?\n",
    "np.corrcoef(height, weight)"
   ]
  },
  {
   "cell_type": "code",
   "execution_count": null,
   "metadata": {},
   "outputs": [],
   "source": [
    "# Let's fit a linear curve through the data\n",
    "fit = np.polyfit(height, weight, 1)\n",
    "# The result is an array with the gradient and the intercept\n",
    "fit"
   ]
  },
  {
   "cell_type": "code",
   "execution_count": null,
   "metadata": {},
   "outputs": [],
   "source": [
    "# Let's plot the data with the linear regression\n",
    "plt.plot(height, weight, 'yo', height, height*fit[0] + fit[1], '--k')"
   ]
  },
  {
   "cell_type": "markdown",
   "metadata": {},
   "source": [
    "## TO BE CONTINUED"
   ]
  },
  {
   "cell_type": "code",
   "execution_count": null,
   "metadata": {},
   "outputs": [],
   "source": []
  }
 ],
 "metadata": {
  "kernelspec": {
   "display_name": "Python 3",
   "language": "python",
   "name": "python3"
  },
  "language_info": {
   "codemirror_mode": {
    "name": "ipython",
    "version": 3
   },
   "file_extension": ".py",
   "mimetype": "text/x-python",
   "name": "python",
   "nbconvert_exporter": "python",
   "pygments_lexer": "ipython3",
   "version": "3.7.3"
  }
 },
 "nbformat": 4,
 "nbformat_minor": 2
}
